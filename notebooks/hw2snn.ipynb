{
 "cells": [
  {
   "cell_type": "markdown",
   "id": "3bb67599",
   "metadata": {},
   "source": [
    "# HW 2 - Simple Neural Networks\n",
    "\n",
    "Part 1: In this first real coding assignment, you will initially explore the operation of a single perceptron (more for historical value than for modern usefulness) and a single Sigmoid neuron to implement the \"real world\" example of going to a cheese festival.\n",
    "\n",
    "Part 2: In the second part, you will switch over to using the author's code to complete a full neural network that can recognize handwritten digits. You will train and run the network monitoring both how long it takes to train AND the test accuracy once training is complete.\n",
    "\n",
    "Part 3: In the third part, you will experiment with hyper-parameters such as the number of epochs, the batch size, and the learning rate. Again, you will monitor the training time and the test accuracy after training is complete.\n",
    "\n",
    "Part 4: In the final part, you will experiment with the network structure itself by changing the number of neurons in the hidden layer. You will again report the training time and test accuracy, but this time you will also report the evaluation time.\n"
   ]
  },
  {
   "cell_type": "code",
   "execution_count": 33,
   "id": "38d25619",
   "metadata": {},
   "outputs": [],
   "source": [
    "from abc import abstractmethod\n",
    "class Neuron:\n",
    "  def __init__(self, w, b):\n",
    "    self.w = w\n",
    "    self.b = b\n",
    "\n",
    "  @abstractmethod\n",
    "  def output(self, x):\n",
    "    pass"
   ]
  },
  {
   "cell_type": "code",
   "execution_count": 34,
   "id": "d446292e",
   "metadata": {},
   "outputs": [],
   "source": [
    "import math\n",
    "\n",
    "class Perceptron(Neuron):\n",
    "  def __init__(self, w, b):\n",
    "    super().__init__(w, b)\n",
    "\n",
    "  \"\"\"\n",
    "    x: list of inputs ... must be same length as w\n",
    "    return 0 or 1 based on classic perceptron calculation weighted sum of inputs plus bias must be strictly greater than 0 to produce a 1 otherwise return a 0\n",
    "  \"\"\"\n",
    "  def output(self, x):\n",
    "    z = 0\n",
    "    for i in range(len(self.w)):\n",
    "      z = z + self.w[i]*x[i]\n",
    "    z = z + self.b\n",
    "    return 0 if z <= 0 else 1\n",
    "\n",
    "class SigmoidNeuron(Neuron):\n",
    "  def __init__(self, w, b):\n",
    "    super().__init__(w, b)\n",
    "\n",
    "  \"\"\"\n",
    "    x: list of inputs ... must be same length as w\n",
    "    return 0 or 1 based on classic perceptron calculation weighted sum of inputs plus bias must be strictly greater than 0 to produce a 1 otherwise return a 0\n",
    "  \"\"\"\n",
    "  def output(self, x):\n",
    "    z = 0\n",
    "    for i in range(len(self.w)):\n",
    "      z = z + self.w[i]*x[i]\n",
    "    z = z + self.b\n",
    "    return 1/(1+math.exp(-z))\n"
   ]
  },
  {
   "cell_type": "code",
   "execution_count": 35,
   "id": "f43d4a5f",
   "metadata": {},
   "outputs": [
    {
     "name": "stdout",
     "output_type": "stream",
     "text": [
      "1\n",
      "0\n",
      "0.9933071490757153\n",
      "0.2689414213699951\n"
     ]
    }
   ],
   "source": [
    "# PART 1a - instantiate a single Perceptron with the weights described in Chapter 1 for going to the festival. Then print out the output of calling the \"output\" function on that neuron with three combinations of inputs for the weather, girlfiend, and public transit inputs.\n",
    "p = Perceptron([6,2,2], -5)\n",
    "x = [1, 1, 1]\n",
    "a = p.output(x)\n",
    "print(a)\n",
    "\n",
    "x = [0, 1, 1]\n",
    "a = p.output(x)\n",
    "print(a)\n",
    "\n",
    "# PART 2b - repeat Part1a, but this time use a SigmoidNueron instead. Compare the output with Part 1a and explain in a comment how this part using a SigmoidNeuron could still give you the \"right\" answer about whether to go or not.\n",
    "m = SigmoidNeuron([6,2,2], -5)\n",
    "x = [1, 1, 1]\n",
    "a = m.output(x)\n",
    "print(a)\n",
    "\n",
    "x = [0, 1, 1]\n",
    "a = m.output(x)\n",
    "print(a)"
   ]
  },
  {
   "cell_type": "code",
   "execution_count": 36,
   "id": "54278848",
   "metadata": {},
   "outputs": [
    {
     "name": "stdout",
     "output_type": "stream",
     "text": [
      "/workspaces/cosc470\n",
      "/workspaces/cosc470\n",
      "fatal: destination path 'nn' already exists and is not an empty directory.\n"
     ]
    }
   ],
   "source": [
    "# PART 2 - run the code below to download your author's code and then train and evaluate the network. ****Make note of the total training time and test accuracy****\n",
    "#%cd /content \n",
    "%cd \"/workspaces/cosc470/\" \n",
    "!pwd\n",
    "!git clone \"https://github.com/MichalDanielDobrzanski/DeepLearningPython\" nn\n",
    "\n",
    "\n",
    "\n"
   ]
  },
  {
   "cell_type": "code",
   "execution_count": 37,
   "id": "8862b19a",
   "metadata": {},
   "outputs": [
    {
     "name": "stdout",
     "output_type": "stream",
     "text": [
      "/workspaces/cosc470/nn\n",
      "50000\n",
      "10000\n",
      "[[0.   0.   0.   0.   0.   0.   0.   0.   0.   0.   0.   0.   0.   0.   0.   0.   0.   0.   0.   0.   0.   0.   0.   0.   0.   0.   0.   0.  ]\n",
      " [0.   0.   0.   0.   0.   0.   0.   0.   0.   0.   0.   0.   0.   0.   0.   0.   0.   0.   0.   0.   0.   0.   0.   0.   0.   0.   0.   0.  ]\n",
      " [0.   0.   0.   0.   0.   0.   0.   0.   0.   0.   0.   0.   0.   0.   0.   0.   0.   0.   0.   0.   0.   0.   0.   0.   0.   0.   0.   0.  ]\n",
      " [0.   0.   0.   0.   0.   0.   0.   0.   0.   0.   0.   0.   0.   0.   0.   0.   0.   0.   0.   0.   0.   0.   0.   0.   0.   0.   0.   0.  ]\n",
      " [0.   0.   0.   0.   0.   0.   0.   0.   0.   0.   0.   0.   0.   0.   0.   0.   0.   0.   0.   0.   0.   0.   0.   0.   0.   0.   0.   0.  ]\n",
      " [0.   0.   0.   0.   0.   0.   0.   0.   0.   0.   0.   0.   0.   0.   0.   0.   0.   0.   0.   0.   0.26 0.91 0.15 0.   0.   0.   0.   0.  ]\n",
      " [0.   0.   0.   0.   0.24 0.32 0.   0.   0.   0.   0.   0.   0.   0.   0.   0.   0.   0.   0.   0.   0.47 0.7  0.15 0.   0.   0.   0.   0.  ]\n",
      " [0.   0.   0.   0.   0.49 0.64 0.   0.   0.   0.   0.   0.   0.   0.   0.   0.   0.   0.   0.   0.01 0.6  0.82 0.16 0.   0.   0.   0.   0.  ]\n",
      " [0.   0.   0.   0.   0.86 0.64 0.   0.   0.   0.   0.   0.   0.   0.   0.   0.   0.   0.   0.   0.11 0.99 0.63 0.   0.   0.   0.   0.   0.  ]\n",
      " [0.   0.   0.   0.   0.87 0.64 0.   0.   0.   0.   0.   0.   0.   0.   0.   0.   0.   0.   0.   0.71 0.99 0.49 0.   0.   0.   0.   0.   0.  ]\n",
      " [0.   0.   0.   0.18 0.96 0.64 0.   0.   0.   0.   0.   0.   0.   0.   0.   0.   0.   0.   0.   0.77 0.99 0.22 0.   0.   0.   0.   0.   0.  ]\n",
      " [0.   0.   0.   0.47 0.99 0.64 0.   0.   0.   0.   0.   0.   0.   0.   0.   0.   0.   0.   0.09 0.9  0.99 0.11 0.   0.   0.   0.   0.   0.  ]\n",
      " [0.   0.   0.   0.62 0.99 0.47 0.   0.   0.   0.   0.   0.   0.   0.   0.   0.   0.   0.   0.64 0.99 0.84 0.06 0.   0.   0.   0.   0.   0.  ]\n",
      " [0.   0.   0.   0.62 0.99 0.26 0.   0.   0.   0.   0.   0.   0.   0.   0.   0.05 0.34 0.7  0.97 0.99 0.36 0.   0.   0.   0.   0.   0.   0.  ]\n",
      " [0.   0.   0.   0.62 0.99 0.33 0.   0.   0.   0.18 0.19 0.45 0.56 0.59 0.94 0.95 0.91 0.7  0.94 0.98 0.16 0.   0.   0.   0.   0.   0.   0.  ]\n",
      " [0.   0.   0.   0.59 0.99 0.93 0.81 0.81 0.81 0.99 0.99 0.98 0.94 0.77 0.56 0.36 0.11 0.02 0.91 0.98 0.   0.   0.   0.   0.   0.   0.   0.  ]\n",
      " [0.   0.   0.   0.   0.46 0.69 0.69 0.69 0.69 0.69 0.38 0.22 0.   0.   0.   0.   0.   0.4  0.99 0.86 0.   0.   0.   0.   0.   0.   0.   0.  ]\n",
      " [0.   0.   0.   0.   0.   0.   0.   0.   0.   0.   0.   0.   0.   0.   0.   0.   0.   0.66 0.99 0.54 0.   0.   0.   0.   0.   0.   0.   0.  ]\n",
      " [0.   0.   0.   0.   0.   0.   0.   0.   0.   0.   0.   0.   0.   0.   0.   0.   0.   0.66 0.99 0.22 0.   0.   0.   0.   0.   0.   0.   0.  ]\n",
      " [0.   0.   0.   0.   0.   0.   0.   0.   0.   0.   0.   0.   0.   0.   0.   0.   0.   0.66 0.99 0.22 0.   0.   0.   0.   0.   0.   0.   0.  ]\n",
      " [0.   0.   0.   0.   0.   0.   0.   0.   0.   0.   0.   0.   0.   0.   0.   0.   0.   0.66 1.   0.37 0.   0.   0.   0.   0.   0.   0.   0.  ]\n",
      " [0.   0.   0.   0.   0.   0.   0.   0.   0.   0.   0.   0.   0.   0.   0.   0.   0.   0.66 0.99 0.38 0.   0.   0.   0.   0.   0.   0.   0.  ]\n",
      " [0.   0.   0.   0.   0.   0.   0.   0.   0.   0.   0.   0.   0.   0.   0.   0.   0.   0.66 0.99 0.6  0.   0.   0.   0.   0.   0.   0.   0.  ]\n",
      " [0.   0.   0.   0.   0.   0.   0.   0.   0.   0.   0.   0.   0.   0.   0.   0.   0.   0.66 1.   0.6  0.   0.   0.   0.   0.   0.   0.   0.  ]\n",
      " [0.   0.   0.   0.   0.   0.   0.   0.   0.   0.   0.   0.   0.   0.   0.   0.   0.   0.38 0.99 0.6  0.   0.   0.   0.   0.   0.   0.   0.  ]\n",
      " [0.   0.   0.   0.   0.   0.   0.   0.   0.   0.   0.   0.   0.   0.   0.   0.   0.   0.   0.   0.   0.   0.   0.   0.   0.   0.   0.   0.  ]\n",
      " [0.   0.   0.   0.   0.   0.   0.   0.   0.   0.   0.   0.   0.   0.   0.   0.   0.   0.   0.   0.   0.   0.   0.   0.   0.   0.   0.   0.  ]\n",
      " [0.   0.   0.   0.   0.   0.   0.   0.   0.   0.   0.   0.   0.   0.   0.   0.   0.   0.   0.   0.   0.   0.   0.   0.   0.   0.   0.   0.  ]]\n",
      "[[0.]\n",
      " [0.]\n",
      " [0.]\n",
      " [0.]\n",
      " [1.]\n",
      " [0.]\n",
      " [0.]\n",
      " [0.]\n",
      " [0.]\n",
      " [0.]]\n"
     ]
    }
   ],
   "source": [
    "# load the data into memory (training_data and test_data numpy arrays)\n",
    "%cd nn\n",
    "import mnist_loader\n",
    "training_data, validation_data, test_data = mnist_loader.load_data_wrapper()\n",
    "training_data = list(training_data)\n",
    "test_data = list(test_data)\n",
    "print(len(training_data))\n",
    "print(len(test_data))\n",
    "\n",
    "import numpy as np\n",
    "np.set_printoptions(linewidth=400)\n",
    "firstimage = np.reshape(training_data[2][0], (28, 28))\n",
    "firstimage_r = np.round(firstimage, decimals=2)\n",
    "\n",
    "print(firstimage_r)\n",
    "print(training_data[2][1])"
   ]
  },
  {
   "cell_type": "code",
   "execution_count": 38,
   "id": "812336cf",
   "metadata": {},
   "outputs": [
    {
     "name": "stdout",
     "output_type": "stream",
     "text": [
      "Epoch 0 : 9043 / 10000\n",
      "Epoch 1 : 9236 / 10000\n",
      "Epoch 2 : 9284 / 10000\n",
      "Epoch 3 : 9315 / 10000\n",
      "Epoch 4 : 9345 / 10000\n",
      "Epoch 5 : 9381 / 10000\n",
      "Epoch 6 : 9371 / 10000\n",
      "Epoch 7 : 9384 / 10000\n",
      "Epoch 8 : 9410 / 10000\n",
      "Epoch 9 : 9399 / 10000\n",
      "Epoch 10 : 9421 / 10000\n",
      "Epoch 11 : 9433 / 10000\n",
      "Epoch 12 : 9404 / 10000\n",
      "Epoch 13 : 9396 / 10000\n",
      "Epoch 14 : 9420 / 10000\n",
      "Epoch 15 : 9430 / 10000\n",
      "Epoch 16 : 9449 / 10000\n",
      "Epoch 17 : 9430 / 10000\n",
      "Epoch 18 : 9468 / 10000\n",
      "Epoch 19 : 9450 / 10000\n",
      "Epoch 20 : 9471 / 10000\n",
      "Epoch 21 : 9468 / 10000\n",
      "Epoch 22 : 9465 / 10000\n",
      "Epoch 23 : 9462 / 10000\n",
      "Epoch 24 : 9446 / 10000\n",
      "Epoch 25 : 9418 / 10000\n",
      "Epoch 26 : 9489 / 10000\n",
      "Epoch 27 : 9477 / 10000\n",
      "Epoch 28 : 9468 / 10000\n",
      "Epoch 29 : 9470 / 10000\n"
     ]
    }
   ],
   "source": [
    "# default run with default hyperparameters - 20 epochs, batch size of 10, and learning rate of 3.0\n",
    "\n",
    "import importlib\n",
    "import network\n",
    "importlib.reload(network)\n",
    "net = network.Network([784, 30, 10])\n",
    "# print(training_data[800][1])\n",
    "# print(net.feedforward(training_data[800][0]))\n",
    "\n",
    "#print(net.weights)\n",
    "#print(net.biases)\n",
    "\n",
    "net.SGD(training_data, 30, 10, 3.0, test_data=test_data)\n",
    "# print (net.feedforward(training_data[800][0]))"
   ]
  },
  {
   "cell_type": "code",
   "execution_count": null,
   "id": "0b205e35",
   "metadata": {},
   "outputs": [],
   "source": [
    "# PART 3 - experiment with the hyperparameters ... try the following combinations\n",
    "# Three different lists of training_times and three different lists of accuracies.\n",
    "tt_baseline = 73.6\n",
    "acc_baseline = 95.06\n",
    "\n",
    "# Varying the number of epochs: 5, 10, 15, 30 (see below)\n",
    "labels_epochs = []\n",
    "labels_epochs[0] = 5, 10, 3.0\n",
    "labels_epochs[1] = 10, 10, 3.0\n",
    "labels_epochs[2] = 15, 10, 3.0\n",
    "labels_epochs[3] = 20, 10, 3.0\n",
    "labels_epochs[4] = 30, 10, 3.0\n",
    "\n",
    "tt_epochs = [18.4, 36.7, 57.8, 73.6, 111.0]\n",
    "acc_epochs = [93.98, 94.38, 94.68, 95.06, 94.70]\n",
    "\n",
    "# Varying the batch size: 5, 20, 30\n",
    "labels_batches = []\n",
    "labels_batches[0] = 20, 5, 3.0\n",
    "labels_batches[1] = 20, 10, 3.0\n",
    "labels_batches[2] = 20, 20, 3.0\n",
    "labels_batches[3] = 20, 30, 3.0\n",
    "\n",
    "tt_batches = []\n",
    "acc_batches = []\n",
    "\n",
    "# Varying the learning rate: 2.5, 3.5, 4.0\n",
    "labels_learn = []\n",
    "labels_learn[0] = 20, 10, 2.5\n",
    "labels_learn[1] = 20, 10, 3.0\n",
    "labels_learn[2] = 20, 10, 3.5\n",
    "labels_learn[3] = 20, 10, 4.0\n",
    "\n",
    "tt_learn = []\n",
    "acc_learn = []\n",
    "\n",
    "tt = tt_epochs + tt_batches + tt_learn \n",
    "\n",
    "# After all 10 RUNS plus your original run with the defaults (20, 10, 3.0), plot your timing results and final test accuracy in a single chart using matplotlib\n",
    "\n"
   ]
  },
  {
   "cell_type": "code",
   "execution_count": 40,
   "id": "8bee4ce8",
   "metadata": {},
   "outputs": [],
   "source": [
    "# PART 4 - experiment with network structure, just try three different configurations\n",
    "# [784, 10, 10], [784, 50, 10], and [784, 100, 10]\n",
    "\n",
    "# After these 3 runs, plot your training timing results, test accuracy, AND evaluation timing\n",
    "# To measure the evaluation time, manually test 100 samples from the test dataset, measure how long that takes and divide by 100 to get a per/image evaluate rate\n",
    "\n",
    "# Use Matplotlib to plot ALL THREE results (training time, test accuracy, and evaluation rate) on three different axes\n"
   ]
  },
  {
   "cell_type": "code",
   "execution_count": 43,
   "id": "e0ca8bcb",
   "metadata": {},
   "outputs": [],
   "source": [
    "# Do your evaluation tests here after each training run.\n",
    "for i in range(len(test_data)):\n",
    "    net.feedforward(test_data[i][0])\n",
    "\n",
    "for i in range(len(training_data)):\n",
    "    net.feedforward(training_data[i][0])"
   ]
  }
 ],
 "metadata": {
  "kernelspec": {
   "display_name": "Python 3",
   "language": "python",
   "name": "python3"
  },
  "language_info": {
   "codemirror_mode": {
    "name": "ipython",
    "version": 3
   },
   "file_extension": ".py",
   "mimetype": "text/x-python",
   "name": "python",
   "nbconvert_exporter": "python",
   "pygments_lexer": "ipython3",
   "version": "3.12.1"
  }
 },
 "nbformat": 4,
 "nbformat_minor": 5
}
