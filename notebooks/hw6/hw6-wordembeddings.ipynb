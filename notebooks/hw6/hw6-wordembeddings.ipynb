{
 "cells": [
  {
   "cell_type": "code",
   "execution_count": 5,
   "id": "a3a23d03",
   "metadata": {},
   "outputs": [
    {
     "name": "stdout",
     "output_type": "stream",
     "text": [
      "Loaded corpus: 5452365 characters\n"
     ]
    }
   ],
   "source": [
    "# Load FOLDOC.txt into variable 'corpus'\n",
    "from pathlib import Path\n",
    "corpus_path = Path(\"FOLDOC.txt\")\n",
    "# Try current notebook directory if not found\n",
    "if not corpus_path.exists():\n",
    "    corpus_path = Path.cwd() / \"FOLDOC.txt\"\n",
    "with corpus_path.open(\"r\", encoding=\"utf-8\") as f:\n",
    "    corpus = f.read()\n",
    "\n",
    "# Basic check\n",
    "print(f\"Loaded corpus: {len(corpus)} characters\")"
   ]
  },
  {
   "cell_type": "code",
   "execution_count": 6,
   "id": "cacb11c8",
   "metadata": {},
   "outputs": [
    {
     "data": {
      "application/vnd.jupyter.widget-view+json": {
       "model_id": "a61cd0ec9ada4a6a97f3f5f22d5b2f97",
       "version_major": 2,
       "version_minor": 0
      },
      "text/plain": [
       "tokenizer_config.json:   0%|          | 0.00/48.0 [00:00<?, ?B/s]"
      ]
     },
     "metadata": {},
     "output_type": "display_data"
    },
    {
     "name": "stderr",
     "output_type": "stream",
     "text": [
      "c:\\Users\\knnth\\COSC Projects\\COSC470\\.venv\\Lib\\site-packages\\huggingface_hub\\file_download.py:143: UserWarning: `huggingface_hub` cache-system uses symlinks by default to efficiently store duplicated files but your machine does not support them in C:\\Users\\knnth\\.cache\\huggingface\\hub\\models--google-bert--bert-base-uncased. Caching files will still work but in a degraded version that might require more space on your disk. This warning can be disabled by setting the `HF_HUB_DISABLE_SYMLINKS_WARNING` environment variable. For more details, see https://huggingface.co/docs/huggingface_hub/how-to-cache#limitations.\n",
      "To support symlinks on Windows, you either need to activate Developer Mode or to run Python as an administrator. In order to activate developer mode, see this article: https://docs.microsoft.com/en-us/windows/apps/get-started/enable-your-device-for-development\n",
      "  warnings.warn(message)\n"
     ]
    },
    {
     "data": {
      "application/vnd.jupyter.widget-view+json": {
       "model_id": "42ac4057c6e446bf8995c9bf6bf4c4dc",
       "version_major": 2,
       "version_minor": 0
      },
      "text/plain": [
       "vocab.txt: 0.00B [00:00, ?B/s]"
      ]
     },
     "metadata": {},
     "output_type": "display_data"
    },
    {
     "data": {
      "application/vnd.jupyter.widget-view+json": {
       "model_id": "7fd18502ea224d63a0c6c257f05035c8",
       "version_major": 2,
       "version_minor": 0
      },
      "text/plain": [
       "tokenizer.json: 0.00B [00:00, ?B/s]"
      ]
     },
     "metadata": {},
     "output_type": "display_data"
    },
    {
     "data": {
      "application/vnd.jupyter.widget-view+json": {
       "model_id": "f04b35a6bb854f23bc73a1cab102eca0",
       "version_major": 2,
       "version_minor": 0
      },
      "text/plain": [
       "config.json:   0%|          | 0.00/570 [00:00<?, ?B/s]"
      ]
     },
     "metadata": {},
     "output_type": "display_data"
    },
    {
     "name": "stdout",
     "output_type": "stream",
     "text": [
      "1386589\n"
     ]
    }
   ],
   "source": [
    "from transformers import BertTokenizer\n",
    "\n",
    "\n",
    "tokenizer = BertTokenizer.from_pretrained(\"google-bert/bert-base-uncased\")\n",
    "tokens = tokenizer.tokenize(corpus)\n",
    "print(len(tokens))\n"
   ]
  },
  {
   "cell_type": "code",
   "execution_count": null,
   "id": "8e079e6f",
   "metadata": {},
   "outputs": [
    {
     "name": "stdout",
     "output_type": "stream",
     "text": [
      "Assigned 17898 token IDs\n",
      "First 20 token->id entries:\n",
      "'free': 0\n",
      "'on': 1\n",
      "'-': 2\n",
      "'line': 3\n",
      "'dictionary': 4\n",
      "'of': 5\n",
      "'computing': 6\n",
      "'<': 7\n",
      "'introduction': 8\n",
      "'>': 9\n",
      "'fold': 10\n",
      "'##oc': 11\n",
      "'is': 12\n",
      "'a': 13\n",
      "'search': 14\n",
      "'##able': 15\n",
      "'acronym': 16\n",
      "'##s': 17\n",
      "',': 18\n",
      "'jar': 19\n"
     ]
    }
   ],
   "source": [
    "# Convert `tokens` (list) to sequential IDs: token -> 0,1,2,...\n",
    "# Place this cell after the tokenizer cell. Creates `token_to_id` and `id_to_token`.\n",
    "try:\n",
    "    tokens\n",
    "    token_to_id\n",
    "except NameError:\n",
    "    raise NameError(\"`tokens` not found. Run the tokenizer cell first.\")\n",
    "EOS = token_to_id[\".\"]\n",
    "inputs_list = []\n",
    "labels_list = []\n",
    "current_input = []\n",
    "current_label = []\n",
    "first_label = False # Flag to indicate first label assignment.\n",
    "\n",
    "for t in tokens:\n",
    "    print(t, t)\n",
    "    if sanity \n",
    "    if t == EOS:\n",
    "        inputs_list.append(current_input)\n",
    "        labels_list.append(current_label[1:] + [EOS])\n",
    "        current_input = []\n",
    "        current_label = []\n",
    "    else:\n",
    "        current_input.append(t)\n",
    "        current_label.append(t)\n",
    "\n",
    "\n",
    "# Preserve first-occurrence order and assign sequential IDs\n",
    "unique_tokens = list(dict.fromkeys(tokens))\n",
    "token_to_id = {tok: i for i, tok in enumerate(unique_tokens)}\n",
    "id_to_token = {i: tok for tok, i in token_to_id.items()}\n",
    "\n",
    "print(f\"Assigned {len(token_to_id)} token IDs\")\n",
    "print(\"First 20 token->id entries:\")\n",
    "for tok, idx in list(token_to_id.items())[:20]:\n",
    "    print(f\"{tok!r}: {idx}\")\n",
    "\n",
    "# Keep variables in the notebook namespace for later use\n"
   ]
  },
  {
   "cell_type": "code",
   "execution_count": null,
   "id": "ff2a5b8f",
   "metadata": {},
   "outputs": [],
   "source": [
    "# Create PyTorch word embeddings for the tokens using the model's input embedding layer\n",
    "import torch\n",
    "from transformers import BertModel\n",
    "\n",
    "# Ensure `tokens` and `tokenizer` are available from previous cells\n",
    "try:\n",
    "    tokens\n",
    "    tokenizer\n",
    "    token_to_id\n",
    "    id_to_token\n",
    "\n",
    "except NameError:\n",
    "    raise NameError(\"`tokens` or `tokenizer` not found. Run the previous cells that load the corpus and initialize the tokenizer.\")\n",
    "\n",
    "# CO-PILOT GENERATED CODE\n",
    "# Convert tokens to ids (some tokens may map to [UNK] id)\n",
    "#token_ids = tokenizer.convert_tokens_to_ids(token_to_id.keys())\n",
    "#print(token_ids[:10])\n",
    "\n",
    "# Convert to tensor\n",
    "# ids_tensor = torch.tensor(token_ids, dtype=torch.long)\n",
    "\n",
    "# # Load pretrained BERT model \n",
    "# \n",
    "# (PyTorch)\n",
    "# model = BertModel.from_pretrained(\"google-bert/bert-base-uncased\")\n",
    "# model.eval()\n",
    "\n",
    "# # Get the embedding layer and lookup embeddings for our tokens\n",
    "# embed_layer = model.get_input_embeddings()\n",
    "# with torch.no_grad():\n",
    "#     embeddings = embed_layer(ids_tensor)  # shape: (n_tokens, hidden_size)\n",
    "\n",
    "# print(f\"Embeddings tensor shape: {embeddings.shape}\")\n",
    "\n",
    "# # Create a token -> embedding mapping (embeddings are PyTorch tensors)\n",
    "# token_to_embedding = {tok: embeddings[i] for i, tok in enumerate(unique_tokens)}\n",
    "\n",
    "# # Example: show vector norm for first 5 tokens\n",
    "# for i, tok in enumerate(unique_tokens[:5]):\n",
    "#     vec = token_to_embedding[tok]\n",
    "#     print(f\"{i}: {tok} -> embed shape {tuple(vec.shape)}, norm={vec.norm().item():.4f}\")\n",
    "\n",
    "# # Keep `embeddings` and `token_to_embedding` in the notebook namespace for later use\n"
   ]
  },
  {
   "cell_type": "code",
   "execution_count": null,
   "id": "fb8a3b46",
   "metadata": {},
   "outputs": [],
   "source": []
  }
 ],
 "metadata": {
  "kernelspec": {
   "display_name": ".venv",
   "language": "python",
   "name": "python3"
  },
  "language_info": {
   "codemirror_mode": {
    "name": "ipython",
    "version": 3
   },
   "file_extension": ".py",
   "mimetype": "text/x-python",
   "name": "python",
   "nbconvert_exporter": "python",
   "pygments_lexer": "ipython3",
   "version": "3.13.7"
  }
 },
 "nbformat": 4,
 "nbformat_minor": 5
}
